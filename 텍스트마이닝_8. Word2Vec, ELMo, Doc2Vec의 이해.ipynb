{
 "cells": [
  {
   "cell_type": "markdown",
   "id": "c1decb88",
   "metadata": {},
   "source": [
    "# 1. Word2Vec 활용 - 학습된 모형 가져오기"
   ]
  },
  {
   "cell_type": "code",
   "execution_count": 2,
   "id": "7ad1d5bd",
   "metadata": {},
   "outputs": [],
   "source": [
    "# 미리 학습된 gensim data를 다운로드\n",
    "import gensim.downloader as api"
   ]
  },
  {
   "cell_type": "code",
   "execution_count": 3,
   "id": "17a87a6b",
   "metadata": {},
   "outputs": [
    {
     "name": "stdout",
     "output_type": "stream",
     "text": [
      "[=================---------------------------------] 35.5% 23.4/66.0MB downloaded"
     ]
    },
    {
     "name": "stderr",
     "output_type": "stream",
     "text": [
      "IOPub message rate exceeded.\n",
      "The notebook server will temporarily stop sending output\n",
      "to the client in order to avoid crashing it.\n",
      "To change this limit, set the config variable\n",
      "`--NotebookApp.iopub_msg_rate_limit`.\n",
      "\n",
      "Current values:\n",
      "NotebookApp.iopub_msg_rate_limit=1000.0 (msgs/sec)\n",
      "NotebookApp.rate_limit_window=3.0 (secs)\n",
      "\n"
     ]
    },
    {
     "name": "stdout",
     "output_type": "stream",
     "text": [
      "[===========================================-------] 86.5% 57.1/66.0MB downloaded"
     ]
    },
    {
     "name": "stderr",
     "output_type": "stream",
     "text": [
      "IOPub message rate exceeded.\n",
      "The notebook server will temporarily stop sending output\n",
      "to the client in order to avoid crashing it.\n",
      "To change this limit, set the config variable\n",
      "`--NotebookApp.iopub_msg_rate_limit`.\n",
      "\n",
      "Current values:\n",
      "NotebookApp.iopub_msg_rate_limit=1000.0 (msgs/sec)\n",
      "NotebookApp.rate_limit_window=3.0 (secs)\n",
      "\n"
     ]
    },
    {
     "data": {
      "text/plain": [
       "gensim.models.keyedvectors.KeyedVectors"
      ]
     },
     "execution_count": 3,
     "metadata": {},
     "output_type": "execute_result"
    }
   ],
   "source": [
    "wv = api.load('glove-wiki-gigaword-50')\n",
    "type(wv)"
   ]
  },
  {
   "cell_type": "code",
   "execution_count": 4,
   "id": "8979bdc2",
   "metadata": {},
   "outputs": [
    {
     "name": "stdout",
     "output_type": "stream",
     "text": [
      "#Size of the vector: 50\n",
      "#Vector for king: [ 0.50451   0.68607  -0.59517  -0.022801  0.60046  -0.13498  -0.08813\n",
      "  0.47377  -0.61798  -0.31012  -0.076666  1.493    -0.034189 -0.98173\n",
      "  0.68229   0.81722  -0.51874  -0.31503  -0.55809   0.66421   0.1961\n",
      " -0.13495  -0.11476  -0.30344   0.41177  -2.223    -1.0756   -1.0783\n",
      " -0.34354   0.33505   1.9927   -0.04234  -0.64319   0.71125   0.49159\n",
      "  0.16754   0.34344  -0.25663  -0.8523    0.1661    0.40102   1.1685\n",
      " -1.0137   -0.21585  -0.15155   0.78321  -0.91241  -1.6106   -0.64426\n",
      " -0.51042 ]\n"
     ]
    }
   ],
   "source": [
    "vec_king = wv['king']\n",
    "print('#Size of the vector:', len(vec_king))\n",
    "print('#Vector for king:', vec_king)"
   ]
  },
  {
   "cell_type": "markdown",
   "id": "694b9371",
   "metadata": {},
   "source": [
    "wv는 다양한 유사도 관련 함수를 제공하는데, 아래와 같이 similarity 메서드로 두 단어 간의 거리를 계산할 수 있다."
   ]
  },
  {
   "cell_type": "code",
   "execution_count": 5,
   "id": "f2de0f58",
   "metadata": {},
   "outputs": [
    {
     "name": "stdout",
     "output_type": "stream",
     "text": [
      "0.53093773 vs 0.41133785\n",
      "0.53667 vs 0.60031056\n",
      "미니밴에 가까운 차: [('truck', 0.9100273251533508), ('suv', 0.904007613658905), ('jeep', 0.8619828820228577)]\n",
      "여성, 왕에는 가까우면서 남성과는 먼 단어: [('queen', 0.8523604273796082)]\n",
      "breakfast cereal dinner lunch 중에서 다른 단어들과의 거리가 가장 먼 단어: cereal\n"
     ]
    }
   ],
   "source": [
    "print(wv.similarity('king', 'man'), 'vs', wv.similarity('king', 'woman'))\n",
    "print(wv.similarity('queen', 'man'), 'vs', wv.similarity('queen', 'woman'))\n",
    "print('미니밴에 가까운 차:', wv.most_similar(positive=['car', 'minivan'], topn=3))\n",
    "print('여성, 왕에는 가까우면서 남성과는 먼 단어:', \n",
    "      wv.most_similar(positive=['woman', 'king'], negative=['man'], topn=1))\n",
    "print('breakfast cereal dinner lunch 중에서 다른 단어들과의 거리가 가장 먼 단어:', \n",
    "      wv.doesnt_match(\"breakfast cereal dinner lunch\".split()))"
   ]
  },
  {
   "cell_type": "markdown",
   "id": "570b1d27",
   "metadata": {},
   "source": [
    "# 2. ELMo - 문맥에 따른 단어 의미의 구분"
   ]
  },
  {
   "cell_type": "markdown",
   "id": "becb2f7b",
   "metadata": {},
   "source": [
    "## 2.1 Word2Vec의 문제점"
   ]
  },
  {
   "cell_type": "markdown",
   "id": "274d736c",
   "metadata": {},
   "source": [
    "* Word2Vec은 단엉를 밀집 벡터로 임베딩해서 활용하는 다양한 방법을 보여주었으며, 대형 말뭉치를 대상으로 학습한 밀집 벡터를 가져와서 활용하는 전이학습의 활용 가능성도 보여주었다는 점에서 매우 의미 있는 모델.\n",
    "* 그러나 쉽게 생각할 수 있는 가장 큰 문제점은 동음이의어다."
   ]
  },
  {
   "cell_type": "markdown",
   "id": "533ec897",
   "metadata": {},
   "source": [
    "* ELMo는 이를 위해 만들어진 문맥을 반영한 워드 임베딩 모형 중 하나다.\n",
    "* Word2Vec에서는 임베딩 벡터가 고정돼 있지만 ELMo는 가변적이다."
   ]
  },
  {
   "cell_type": "code",
   "execution_count": null,
   "id": "afe83c8e",
   "metadata": {},
   "outputs": [],
   "source": []
  }
 ],
 "metadata": {
  "kernelspec": {
   "display_name": "Python 3 (ipykernel)",
   "language": "python",
   "name": "python3"
  },
  "language_info": {
   "codemirror_mode": {
    "name": "ipython",
    "version": 3
   },
   "file_extension": ".py",
   "mimetype": "text/x-python",
   "name": "python",
   "nbconvert_exporter": "python",
   "pygments_lexer": "ipython3",
   "version": "3.8.12"
  }
 },
 "nbformat": 4,
 "nbformat_minor": 5
}
